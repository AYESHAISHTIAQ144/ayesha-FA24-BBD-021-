{
 "cells": [
  {
   "cell_type": "code",
   "execution_count": null,
   "id": "98dd9729-efae-4537-ae18-5841eac36eab",
   "metadata": {},
   "outputs": [],
   "source": [
    "#AYESHA ISHTIAQ \n",
    "#FA24-BBD-021\n",
    "#QUESTION NO 9\n"
   ]
  },
  {
   "cell_type": "code",
   "execution_count": 57,
   "id": "7e3ed751-16e3-4658-9b33-1f0721e115eb",
   "metadata": {},
   "outputs": [
    {
     "name": "stdout",
     "output_type": "stream",
     "text": [
      "Area of Rectangle: 120\n",
      "Area of Circle: 1133.54\n",
      "Area of Triangle: 3.0\n"
     ]
    }
   ],
   "source": [
    "class Shape:\n",
    "    def calculate_area(self):\n",
    "        raise NotImplementError(\"Subcclasses must implement this method\")\n",
    "        \n",
    "class Rectangle(Shape):\n",
    "    def __init__ (self, length, width):\n",
    "        self.length=length\n",
    "        self.width=width\n",
    "    def rectangle_area(self):\n",
    "        return self.length*self.width\n",
    "given_rectangle=Rectangle(10,12)\n",
    "print(f\"Area of Rectangle: {given_rectangle.rectangle_area()}\")\n",
    "\n",
    "class Circle:\n",
    "    def __init__ (self, radius):\n",
    "        self.radius=radius\n",
    "    def circle_area(self):\n",
    "        return 3.14*(self.radius**2)\n",
    "given_circle=Circle(19)\n",
    "print(f\"Area of Circle: {given_circle.circle_area()}\")\n",
    "\n",
    "class Triangle(Shape):\n",
    "    def __init__ (self, base, height):\n",
    "        self.base=base\n",
    "        self.height=height\n",
    "    def triangle_area(self):\n",
    "        return 0.5*self.base*self.height\n",
    "given_triangle=Triangle(3,2)\n",
    "print(f\"Area of Triangle: {given_triangle.triangle_area()}\")"
   ]
  },
  {
   "cell_type": "code",
   "execution_count": 61,
   "id": "39fda230-7cad-4c50-b8eb-714c3a3f1c51",
   "metadata": {},
   "outputs": [
    {
     "name": "stdout",
     "output_type": "stream",
     "text": [
      "Max says:  bhao bhao\n",
      "Maggie says: mao mao\n",
      "Bruno says: Maa maa\n"
     ]
    }
   ],
   "source": [
    "# QUESTION 10\n",
    "# Class Animal Subclasses Dog, Cat, Cow\n",
    "class Animal:\n",
    "    def __init__(self, name):\n",
    "        self.name=name\n",
    "    def sound(self):\n",
    "        raise NotImplementError(\"Subclasses must implement this method.\")\n",
    "\n",
    "class Dog(Animal):\n",
    "    def sound(self):\n",
    "        return \" bhao bhao\"\n",
    "dog=Dog(name=\"Max\")\n",
    "print(f\"{dog.name} says: {dog.sound()}\")\n",
    "\n",
    "class Cat(Animal):\n",
    "    def sound(self):\n",
    "        return \"mao mao\"\n",
    "cat=Cat(name=\"Maggie\")\n",
    "print(f\"{cat.name} says: {cat.sound()}\")\n",
    "\n",
    "class Cow(Animal):\n",
    "    def sound(self):\n",
    "        return \"Maa maa\"\n",
    "cow=Cow(name=\"Bruno\")\n",
    "print(f\"{cow.name} says: {cow.sound()}\")\n"
   ]
  },
  {
   "cell_type": "code",
   "execution_count": null,
   "id": "72587230-d841-400f-9231-33164d61390e",
   "metadata": {},
   "outputs": [],
   "source": []
  }
 ],
 "metadata": {
  "kernelspec": {
   "display_name": "Python 3 (ipykernel)",
   "language": "python",
   "name": "python3"
  },
  "language_info": {
   "codemirror_mode": {
    "name": "ipython",
    "version": 3
   },
   "file_extension": ".py",
   "mimetype": "text/x-python",
   "name": "python",
   "nbconvert_exporter": "python",
   "pygments_lexer": "ipython3",
   "version": "3.12.4"
  }
 },
 "nbformat": 4,
 "nbformat_minor": 5
}
